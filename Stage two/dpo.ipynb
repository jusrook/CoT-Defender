{
 "cells": [
  {
   "cell_type": "code",
   "execution_count": null,
   "id": "fd656b00-8a6f-42fc-8c11-7794e0edf302",
   "metadata": {},
   "outputs": [],
   "source": [
    "from transformers import AutoModelForCausalLM, AutoTokenizer, DataCollatorForLanguageModeling, TrainingArguments, Trainer\n",
    "import torch\n",
    "from torch.optim import AdamW\n",
    "import torch.nn.functional as F\n",
    "import pandas as pd\n",
    "from tqdm import tqdm\n",
    "from datasets import Dataset,concatenate_datasets\n",
    "from peft import AutoPeftModelForCausalLM,PeftModel\n",
    "from trl import  DPOConfig, DPOTrainer\n",
    "from unsloth import FastLanguageModel\n",
    "from peft import get_peft_model, TaskType, LoraConfig"
   ]
  },
  {
   "cell_type": "code",
   "execution_count": null,
   "id": "2a54a705-9136-488e-9210-597130cdf4b8",
   "metadata": {},
   "outputs": [],
   "source": [
    "sft_model_root = \"/root/of/the/sft_model\" #After the second stage of the sft model"
   ]
  },
  {
   "cell_type": "code",
   "execution_count": null,
   "id": "7d5026f6",
   "metadata": {},
   "outputs": [],
   "source": [
    "model, tokenizer = FastLanguageModel.from_pretrained(\n",
    "    model_name = sft_model_root,\n",
    "    dtype=torch.bfloat16,\n",
    "    load_in_4bit=False\n",
    ")\n",
    "tokenizer.padding_side=\"left\"\n",
    "model.load_adapter(sft_model_root, adapter_name=\"reference\")"
   ]
  },
  {
   "cell_type": "code",
   "execution_count": null,
   "id": "6fc9bb85-6719-4dfe-a5c3-cec76981cd5d",
   "metadata": {},
   "outputs": [],
   "source": [
    "ds1 = Dataset.from_csv(\"./RL data/harmful\") #Select the corresponding harmful data\n",
    "ds2 = Dataset.from_csv(\"./RL data/harmless\")#Select the corresponding harmless data\n",
    "ds = concatenate_datasets([ds1,ds2])\n",
    "rl_ds = ds.shuffle(seed=42)"
   ]
  },
  {
   "cell_type": "code",
   "execution_count": null,
   "id": "b4e6b264",
   "metadata": {},
   "outputs": [],
   "source": [
    "def chatml_format(example):\n",
    "    messages = [\n",
    "        #{\"role\": \"system\", \"content\": \"You are a helpful assistant.\"},\n",
    "        {\"role\": \"user\", \"content\": example[\"prompt\"]}\n",
    "    ]\n",
    "\n",
    "    example[\"prompt\"] = tokenizer.apply_chat_template(\n",
    "        messages,\n",
    "        tokenize=False,\n",
    "        add_generation_prompt=True\n",
    "    )\n",
    "\n",
    "    example['chosen'] = example['chosen'] + tokenizer.eos_token +\"\\n\"\n",
    "    example['rejected'] = example['rejected'] + tokenizer.eos_token +\"\\n\"\n",
    "    \n",
    "    return example\n",
    "\n",
    "formatted_rl_ds = rl_ds.map(chatml_format).select_columns([\"prompt\", \"chosen\", \"rejected\"])"
   ]
  },
  {
   "cell_type": "code",
   "execution_count": null,
   "id": "3d58a017-a11b-4ab8-b871-c2c29ca68332",
   "metadata": {},
   "outputs": [],
   "source": [
    "#Default training parameters\n",
    "training_args = DPOConfig(\n",
    "    output_dir=\"output_dir\",\n",
    "    per_device_train_batch_size=1,\n",
    "    gradient_accumulation_steps=16,\n",
    "    logging_steps=10,\n",
    "    learning_rate= 3e-5,\n",
    "    bf16=True,\n",
    "    max_length=8192,\n",
    "    num_train_epochs=1,\n",
    "    torch_empty_cache_steps=5,\n",
    "    rpo_alpha=1.0,\n",
    "    model_adapter_name=\"default\",\n",
    "    ref_adapter_name=\"reference\"\n",
    ")"
   ]
  },
  {
   "cell_type": "code",
   "execution_count": null,
   "id": "5b2d6918-f9ee-4e23-b869-c420cb37a438",
   "metadata": {},
   "outputs": [],
   "source": [
    "dpo_trainer = DPOTrainer(\n",
    "    model = model,\n",
    "    ref_model= None,\n",
    "    args=training_args,\n",
    "    train_dataset=formatted_rl_ds,\n",
    "    processing_class=tokenizer\n",
    ")"
   ]
  },
  {
   "cell_type": "code",
   "execution_count": null,
   "id": "b2d43376-28e2-492e-af2b-085f7e8134bc",
   "metadata": {},
   "outputs": [],
   "source": [
    "dpo_trainer.train()"
   ]
  }
 ],
 "metadata": {
  "kernelspec": {
   "display_name": "base",
   "language": "python",
   "name": "python3"
  },
  "language_info": {
   "codemirror_mode": {
    "name": "ipython",
    "version": 3
   },
   "file_extension": ".py",
   "mimetype": "text/x-python",
   "name": "python",
   "nbconvert_exporter": "python",
   "pygments_lexer": "ipython3",
   "version": "3.12.3"
  }
 },
 "nbformat": 4,
 "nbformat_minor": 5
}
